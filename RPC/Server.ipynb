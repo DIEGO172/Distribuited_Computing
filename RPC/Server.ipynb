{
 "cells": [
  {
   "cell_type": "code",
   "execution_count": 1,
   "metadata": {},
   "outputs": [],
   "source": [
    "from xmlrpc.server import SimpleXMLRPCServer\n",
    "from xmlrpc.client import Binary\n",
    "import mysql.connector\n",
    "from mysql.connector import Error\n",
    "import datetime\n",
    "from beautifultable import BeautifulTable\n",
    "import generate_key as tk\n",
    "import socket\n",
    "import sys\n",
    "import switch\n",
    "import json\n",
    "\n"
   ]
  },
  {
   "cell_type": "code",
   "execution_count": 2,
   "metadata": {},
   "outputs": [],
   "source": [
    "class Log_Array:\n",
    "    def __init__(self):\n",
    "        self.items = []\n",
    "\n",
    "    def log_insert(self, item):\n",
    "        self.items.insert(0,item)\n",
    "\n",
    "    def size(self):\n",
    "        return len(self.items)"
   ]
  },
  {
   "cell_type": "code",
   "execution_count": 3,
   "metadata": {},
   "outputs": [],
   "source": [
    "def dict_data(msg):\n",
    "    my_json=msg.decode('utf8')\n",
    "    dt_dummy=json.loads(my_json)\n",
    "    dt=json.loads(dt_dummy)\n",
    "    return dt"
   ]
  },
  {
   "cell_type": "code",
   "execution_count": null,
   "metadata": {},
   "outputs": [],
   "source": []
  },
  {
   "cell_type": "code",
   "execution_count": null,
   "metadata": {},
   "outputs": [
    {
     "name": "stdout",
     "output_type": "stream",
     "text": [
      "Use Control-C to exit\n"
     ]
    },
    {
     "name": "stderr",
     "output_type": "stream",
     "text": [
      "127.0.0.1 - - [12/Mar/2021 10:20:11] \"POST /RPC2 HTTP/1.1\" 200 -\n"
     ]
    },
    {
     "name": "stdout",
     "output_type": "stream",
     "text": [
      "connecting to localhost port 11000\n",
      "received b''\n",
      "closing socket\n"
     ]
    },
    {
     "name": "stderr",
     "output_type": "stream",
     "text": [
      "127.0.0.1 - - [12/Mar/2021 10:20:15] \"POST /RPC2 HTTP/1.1\" 200 -\n",
      "127.0.0.1 - - [12/Mar/2021 11:00:29] \"POST /RPC2 HTTP/1.1\" 200 -\n"
     ]
    },
    {
     "name": "stdout",
     "output_type": "stream",
     "text": [
      "connecting to localhost port 11000\n",
      "received b'{\"reply\":instruction not found, \"id\":210\"}'\n",
      "closing socket\n"
     ]
    },
    {
     "name": "stderr",
     "output_type": "stream",
     "text": [
      "127.0.0.1 - - [12/Mar/2021 11:00:45] \"POST /RPC2 HTTP/1.1\" 200 -\n",
      "127.0.0.1 - - [12/Mar/2021 11:22:01] \"POST /RPC2 HTTP/1.1\" 200 -\n",
      "127.0.0.1 - - [12/Mar/2021 11:22:06] \"POST /RPC2 HTTP/1.1\" 200 -\n"
     ]
    },
    {
     "name": "stdout",
     "output_type": "stream",
     "text": [
      "connecting to localhost port 11000\n",
      "received b'{\"reply\":instruction not found, \"id\":210\"}'\n",
      "closing socket\n"
     ]
    },
    {
     "name": "stderr",
     "output_type": "stream",
     "text": [
      "127.0.0.1 - - [12/Mar/2021 11:26:36] \"POST /RPC2 HTTP/1.1\" 200 -\n",
      "127.0.0.1 - - [12/Mar/2021 11:28:25] \"POST /RPC2 HTTP/1.1\" 200 -\n"
     ]
    },
    {
     "name": "stdout",
     "output_type": "stream",
     "text": [
      "connecting to localhost port 11000\n",
      "received b'{\"reply\":MULTIPLYX, \"id\":210\"}'\n",
      "closing socket\n"
     ]
    },
    {
     "name": "stderr",
     "output_type": "stream",
     "text": [
      "127.0.0.1 - - [12/Mar/2021 11:28:45] \"POST /RPC2 HTTP/1.1\" 200 -\n"
     ]
    }
   ],
   "source": [
    "class ExampleService:\n",
    "    \n",
    "    def __init__(self):\n",
    "        self.X = 0\n",
    "        self.Y = 0\n",
    "        self.log=Log_Array()\n",
    "\n",
    "\n",
    "    def ping(self):\n",
    "        \"\"\"Simple function to respond when called\n",
    "        to demonstrate connectivity.\n",
    "        \"\"\"\n",
    "        return True\n",
    "    def add(self,value_enc,target_enc):\n",
    "        \n",
    "        value=int(tk.decrypt(value_enc,tk.get_key(\"braulio\")))\n",
    "        target=tk.decrypt(target_enc,tk.get_key(\"braulio\"))\n",
    "        if target == \"X\":\n",
    "            self.X=self.X+value\n",
    "            self.send_socket('localhost',11000, self.make_msg(value,target,\"ADD\"))\n",
    "        else:\n",
    "            self.Y=self.Y+value\n",
    "            self.send_socket('localhost',11000, self.make_msg(value,target,\"ADD\"))\n",
    "\n",
    "    def rpc_add(self,value,target):\n",
    "        if target == \"X\":\n",
    "            self.X=self.X+value\n",
    "        else:\n",
    "            self.Y=self.Y+value            \n",
    "            \n",
    "    def mul(self,value_enc,target_enc):\n",
    "        value=int(tk.decrypt(value_enc,tk.get_key(\"braulio\")))\n",
    "        target=tk.decrypt(target_enc,tk.get_key(\"braulio\"))\n",
    "        if target == \"X\":\n",
    "            self.X=self.X*value\n",
    "            self.send_socket('localhost',11000, self.make_msg(value,target,\"MULTIPLY\"))\n",
    "        else:\n",
    "            self.Y=self.Y*value\n",
    "            self.send_socket('localhost',11000, self.make_msg(value,target,\"MULTIPLY\"))\n",
    "    def read(self,target_enc):\n",
    "        target=tk.decrypt(target_enc,tk.get_key(\"braulio\"))\n",
    "        if target == \"X\":\n",
    "            return(str(self.X))\n",
    "        else:\n",
    "            return(str(self.Y))       \n",
    "            \n",
    "    def test_enc(self,value_enc):\n",
    "        value_1=tk.decrypt(value_enc,tk.get_key(\"braulio\"))\n",
    "        print(type(int(value_1)))\n",
    "        tipio=type(int(value_1))\n",
    "        return tipio\n",
    "    def send_socket(self,server,port,message):\n",
    "        sock = socket.socket(socket.AF_INET, socket.SOCK_STREAM)\n",
    "        server_address = (server, port)\n",
    "        print('connecting to {} port {}'.format(*server_address))\n",
    "        sock.connect(server_address)\n",
    "        try:\n",
    "            sock.sendall(bytes(message,encoding=\"utf-8\"))\n",
    "            data = sock.recv(1024)\n",
    "            print('received {!r}'.format(data))\n",
    "        finally:\n",
    "            print('closing socket')\n",
    "            sock.close()\n",
    "    def make_msg(self,value,target,action):\n",
    "        thisdict = { \n",
    "            \"action\": action,\n",
    "            \"value\": value,\n",
    "            \"target\": target,\n",
    "            \"sender\": \"210\",\n",
    "            \"time\": 0\n",
    "            }\n",
    "        dictionaryToJson = json.dumps(thisdict)\n",
    "        return dictionaryToJson\n",
    "        \n",
    "            \n",
    "    \n",
    "   \n",
    "\n",
    "    \n",
    "    def testing(self,query_encrypted):\n",
    "        return query_encrypted\n",
    "    \n",
    "\n",
    "\n",
    "if __name__ == '__main__':\n",
    "    server = SimpleXMLRPCServer(('localhost', 9000),\n",
    "                                logRequests=True,\n",
    "                                allow_none=True)\n",
    "    server.register_introspection_functions()\n",
    "    server.register_multicall_functions()\n",
    "\n",
    "    server.register_instance(ExampleService())\n",
    "\n",
    "    try:\n",
    "        print('Use Control-C to exit')\n",
    "        server.serve_forever()\n",
    "\n",
    "\n",
    "    except KeyboardInterrupt:\n",
    "        print('Exiting')"
   ]
  }
 ],
 "metadata": {
  "kernelspec": {
   "display_name": "Python 3",
   "language": "python",
   "name": "python3"
  },
  "language_info": {
   "codemirror_mode": {
    "name": "ipython",
    "version": 3
   },
   "file_extension": ".py",
   "mimetype": "text/x-python",
   "name": "python",
   "nbconvert_exporter": "python",
   "pygments_lexer": "ipython3",
   "version": "3.8.5"
  }
 },
 "nbformat": 4,
 "nbformat_minor": 4
}
