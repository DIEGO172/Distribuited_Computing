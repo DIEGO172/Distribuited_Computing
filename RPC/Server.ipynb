{
 "cells": [
  {
   "cell_type": "code",
   "execution_count": 1,
   "metadata": {},
   "outputs": [],
   "source": [
    "from xmlrpc.server import SimpleXMLRPCServer\n",
    "from xmlrpc.client import Binary\n",
    "import mysql.connector\n",
    "from mysql.connector import Error\n",
    "import datetime\n",
    "from beautifultable import BeautifulTable\n",
    "import generate_key as tk\n",
    "\n"
   ]
  },
  {
   "cell_type": "code",
   "execution_count": null,
   "metadata": {},
   "outputs": [
    {
     "name": "stdout",
     "output_type": "stream",
     "text": [
      "Use Control-C to exit\n"
     ]
    },
    {
     "name": "stderr",
     "output_type": "stream",
     "text": [
      "127.0.0.1 - - [11/Mar/2021 21:29:44] \"POST /RPC2 HTTP/1.1\" 200 -\n"
     ]
    }
   ],
   "source": [
    "class ExampleService:\n",
    "    \n",
    "    def __init__(self):\n",
    "        self.X = 0\n",
    "        self.Y = 0\n",
    "\n",
    "\n",
    "    def ping(self):\n",
    "        \"\"\"Simple function to respond when called\n",
    "        to demonstrate connectivity.\n",
    "        \"\"\"\n",
    "        return True\n",
    "    def add(self,value_enc,target_enc):\n",
    "        value=int(tk.decrypt(value_enc,tk.get_key(\"braulio\")))\n",
    "        target=tk.decrypt(target_enc,tk.get_key(\"braulio\"))\n",
    "        if target == \"X\":\n",
    "            self.X=self.X+value\n",
    "        else:\n",
    "            self.Y=self.Y+value\n",
    "    def mul(self,value_enc,target_enc):\n",
    "        value=int(tk.decrypt(value_enc,tk.get_key(\"braulio\")))\n",
    "        target=tk.decrypt(target_enc,tk.get_key(\"braulio\"))\n",
    "        if target == \"X\":\n",
    "            self.X=self.X*value\n",
    "        else:\n",
    "            self.Y=self.Y*value        \n",
    "    def read(self,target_enc):\n",
    "        target=tk.decrypt(target_enc,tk.get_key(\"braulio\"))\n",
    "        if target == \"X\":\n",
    "            print(str(X))\n",
    "        else:\n",
    "            print(str(X))       \n",
    "            \n",
    "    def test_enc(self,value_enc):\n",
    "        value=tk.decrypt(value_enc,tk.get_key(\"braulio\"))\n",
    "        return value\n",
    "   \n",
    "\n",
    "            \n",
    "    \n",
    "    #en la funcion query creamos la conexion con el servidor en mysql\n",
    "    def query(self,query_encrypted,fun_host=\"localhost\",fun_user=\"Main\"):\n",
    "        connection = None\n",
    "        try:\n",
    "            connection = mysql.connector.connect(\n",
    "            host=fun_host,\n",
    "            user=fun_user,\n",
    "            passwd=\"\",\n",
    "            database='test'     \n",
    "            )\n",
    "            #funcion de encriptacion\n",
    "            query_script = tk.decrypt(query_encrypted,tk.get_key(\"braulio\"))\n",
    "            cursor = connection.cursor()\n",
    "            cursor.execute(query_script)\n",
    "            \n",
    "            message = \"Query executed successfully\"\n",
    "            result = cursor.fetchall()\n",
    "            connection.commit()\n",
    "        except Error as e:\n",
    "            message = f\"The error '{e}' occurred\"\n",
    "            result = 0\n",
    "\n",
    "        return message, result\n",
    "    \n",
    "    def testing(self,query_encrypted):\n",
    "        \n",
    "        return query_encrypted\n",
    "    \n",
    "\n",
    "\n",
    "if __name__ == '__main__':\n",
    "    server = SimpleXMLRPCServer(('localhost', 9000),\n",
    "                                logRequests=True,\n",
    "                                allow_none=True)\n",
    "    server.register_introspection_functions()\n",
    "    server.register_multicall_functions()\n",
    "\n",
    "    server.register_instance(ExampleService())\n",
    "\n",
    "    try:\n",
    "        print('Use Control-C to exit')\n",
    "        server.serve_forever()\n",
    "    except KeyboardInterrupt:\n",
    "        print('Exiting')"
   ]
  }
 ],
 "metadata": {
  "kernelspec": {
   "display_name": "Python 3",
   "language": "python",
   "name": "python3"
  },
  "language_info": {
   "codemirror_mode": {
    "name": "ipython",
    "version": 3
   },
   "file_extension": ".py",
   "mimetype": "text/x-python",
   "name": "python",
   "nbconvert_exporter": "python",
   "pygments_lexer": "ipython3",
   "version": "3.8.5"
  }
 },
 "nbformat": 4,
 "nbformat_minor": 4
}
