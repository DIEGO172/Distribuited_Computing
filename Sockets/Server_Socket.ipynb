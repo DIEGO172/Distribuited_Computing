{
 "cells": [
  {
   "cell_type": "code",
   "execution_count": 2,
   "metadata": {},
   "outputs": [],
   "source": [
    "import socket\n",
    "import sys\n",
    "import switch\n",
    "import json"
   ]
  },
  {
   "cell_type": "code",
   "execution_count": 3,
   "metadata": {},
   "outputs": [],
   "source": [
    "class Lamport_Clock:\n",
    "\t\"\"\" Lamport Clock with lock, because it is shared between node and node's listener for incoming messages.\"\"\"\n",
    "\n",
    "\tdef __init__(self):\n",
    "\t\tself.value = 0\n",
    "\n",
    "\tdef calc_recv_timestamp(self, other):\n",
    "\t\tself.value = max(int(self.value), int(other)) + 1\n",
    "\t\treturn self.value\n",
    "\n",
    "\tdef increment(self):\n",
    "\t\tself.value = self.value + 1\n",
    "\n",
    "\tdef getValue(self):\n",
    "\t\treturn self.value"
   ]
  },
  {
   "cell_type": "code",
   "execution_count": 4,
   "metadata": {},
   "outputs": [],
   "source": [
    "class Queue:\n",
    "    def __init__(self):\n",
    "        self.items = []\n",
    "\n",
    "    def isEmpty(self):\n",
    "        return self.items == []\n",
    "\n",
    "    def enqueue(self, item):\n",
    "        self.items.insert(0,item)\n",
    "\n",
    "    def dequeue(self):\n",
    "        return self.items.pop()\n",
    "\n",
    "    def size(self):\n",
    "        return len(self.items)"
   ]
  },
  {
   "cell_type": "code",
   "execution_count": 18,
   "metadata": {},
   "outputs": [],
   "source": [
    "class Log_Array:\n",
    "    def __init__(self):\n",
    "        self.items = []\n",
    "\n",
    "    def log_insert(self, item):\n",
    "        self.items.insert(0,item)\n",
    "\n",
    "    def size(self):\n",
    "        return len(self.items)"
   ]
  },
  {
   "cell_type": "code",
   "execution_count": 14,
   "metadata": {},
   "outputs": [],
   "source": [
    "def dict_data(msg):\n",
    "    my_json=msg.decode('utf8')\n",
    "    dt_dummy=json.loads(my_json)\n",
    "    dt=json.loads(dt_dummy)\n",
    "    return dt\n",
    "    "
   ]
  },
  {
   "cell_type": "code",
   "execution_count": null,
   "metadata": {},
   "outputs": [],
   "source": [
    "log"
   ]
  },
  {
   "cell_type": "code",
   "execution_count": null,
   "metadata": {},
   "outputs": [
    {
     "name": "stdout",
     "output_type": "stream",
     "text": [
      "starting up on localhost port 10000\n",
      "waiting for a connection\n",
      "connection from ('127.0.0.1', 55939)\n",
      "{\"reply\":ADDX, \"id\":215\"}\n",
      "received {'action': 'ADD', 'value': 2, 'target': 'X', 'sender': '215', 'time': 'ii'}\n",
      "waiting for a connection\n",
      "connection from ('127.0.0.1', 55942)\n",
      "{\"reply\":ADDX, \"id\":215\"}\n",
      "received {'action': 'ADD', 'value': 2, 'target': 'X', 'sender': '215', 'time': 'ii'}\n",
      "waiting for a connection\n",
      "connection from ('127.0.0.1', 55947)\n",
      "{\"reply\":ADDX, \"id\":215\"}\n",
      "received {'action': 'ADD', 'value': 2, 'target': 'X', 'sender': '215', 'time': 'ii'}\n",
      "waiting for a connection\n",
      "connection from ('127.0.0.1', 55977)\n",
      "{\"reply\":X6, \"id\":215\"}\n",
      "received {'action': 'READ', 'value': 2, 'target': 'X', 'sender': '215', 'time': 'ii'}\n",
      "waiting for a connection\n"
     ]
    }
   ],
   "source": [
    "sock = socket.socket(socket.AF_INET, socket.SOCK_STREAM)\n",
    "\n",
    "# Bind the socket to the port\n",
    "server_address = ('localhost', 10000)\n",
    "print('starting up on {} port {}'.format(*server_address))\n",
    "sock.bind(server_address)\n",
    "X=0\n",
    "Y=0\n",
    "sender=\"210\" # cambia esto dependiendo del servidor tu servidor es 210\n",
    "# Listen for incoming connections\n",
    "sock.listen(5)\n",
    "lg=Log_Array()\n",
    "while True:\n",
    "    # Wait for a connection\n",
    "    print('waiting for a connection')\n",
    "    connection, client_address = sock.accept()\n",
    "    \n",
    "    try:\n",
    "        print('connection from', client_address)\n",
    "        # Receive the data in small chunks and retransmit it\n",
    "        msg = connection.recv(1024)\n",
    "        dt=dict_data(msg)\n",
    "        lg.log_insert(dt)\n",
    "        \n",
    "        if dt[\"action\"]==\"MULTIPLY \"and dt[\"target\"]==\"X\":\n",
    "            X=X*dt[\"value\"]\n",
    "            repply_msg = dt[\"action\"]+str(dt[\"target\"])\n",
    "        elif dt[\"action\"]==\"ADD\"and dt[\"target\"]==\"X\":\n",
    "            X=X+dt[\"value\"]\n",
    "            repply_msg = dt[\"action\"]+str(dt[\"target\"])\n",
    "        elif dt[\"action\"]==\"MULTIPLY \"and dt[\"target\"]==\"Y\":\n",
    "            Y=Y*dt[\"value\"]\n",
    "            repply_msg = dt[\"action\"]+str(dt[\"target\"])\n",
    "        elif dt[\"action\"]==\"ADD\"and dt[\"target\"]==\"Y\":\n",
    "            Y=Y+dt[\"value\"]\n",
    "            repply_msg = dt[\"action\"]+str(dt[\"target\"])\n",
    "        elif dt[\"action\"]==\"READ\"and dt[\"target\"]==\"Y\":\n",
    "            repply_msg = str(dt[\"target\"])+str(Y)\n",
    "        elif dt[\"action\"]==\"READ\"and dt[\"target\"]==\"X\":\n",
    "            repply_msg = str(dt[\"target\"])+str(X)\n",
    "        else:\n",
    "            repply_msg = \"instruction not found\"\n",
    "        \n",
    "        repply_msg='{\"reply\":'+repply_msg+', \"id\":'+dt[\"sender\"]+'\"}'\n",
    "        #print(dt)\n",
    "        print(repply_msg)\n",
    "        print('received {!r}'.format(dt))\n",
    "        connection.sendall(str.encode(repply_msg))\n",
    "        #if data:\n",
    "        #    print('sending data back to the client')\n",
    "        #    connection.sendall(data)\n",
    "        #else:\n",
    "        #    print('no data from', client_address)\n",
    "        #    break;\n",
    "\n",
    "    finally:\n",
    "        # Clean up the connection\n",
    "        connection.close()"
   ]
  }
 ],
 "metadata": {
  "kernelspec": {
   "display_name": "Python 3",
   "language": "python",
   "name": "python3"
  },
  "language_info": {
   "codemirror_mode": {
    "name": "ipython",
    "version": 3
   },
   "file_extension": ".py",
   "mimetype": "text/x-python",
   "name": "python",
   "nbconvert_exporter": "python",
   "pygments_lexer": "ipython3",
   "version": "3.8.5"
  }
 },
 "nbformat": 4,
 "nbformat_minor": 4
}
