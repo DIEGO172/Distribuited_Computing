{
 "cells": [
  {
   "cell_type": "code",
   "execution_count": 1,
   "metadata": {},
   "outputs": [],
   "source": [
    "import socket\n",
    "import sys\n",
    "import json"
   ]
  },
  {
   "cell_type": "code",
   "execution_count": 27,
   "metadata": {},
   "outputs": [
    {
     "name": "stdout",
     "output_type": "stream",
     "text": [
      "connecting to localhost port 10000\n",
      "sending b'\"{\\\\\"action\\\\\":\\\\\"READ\\\\\", \\\\\"value\\\\\":2, \\\\\"target\\\\\":\\\\\"X\\\\\", \\\\\"sender\\\\\":\\\\\"215\\\\\", \\\\\"time\\\\\":\\\\\"ii\\\\\"}\"'\n",
      "received b'{\"reply\":X6, \"id\":215\"}'\n",
      "closing socket\n"
     ]
    }
   ],
   "source": [
    "# Create a TCP/IP socket\n",
    "sock = socket.socket(socket.AF_INET, socket.SOCK_STREAM)\n",
    "\n",
    "# Connect the socket to the port where the server is listening\n",
    "server_address = ('localhost', 10000)\n",
    "print('connecting to {} port {}'.format(*server_address))\n",
    "sock.connect(server_address)\n",
    "\n",
    "try:\n",
    "    # Send data\n",
    "    msg = '{\"action\":\"READ\", \"value\":2, \"target\":\"X\", \"sender\":\"215\", \"time\":\"ii\"}'\n",
    "    data = json.dumps(msg)\n",
    "    message=bytes(data,encoding=\"utf-8\")\n",
    "    print('sending {!r}'.format(message))\n",
    "    #sock.close()\n",
    "    sock.sendall(message)\n",
    "    # Look for the response\n",
    "    data = sock.recv(1024)\n",
    "    print('received {!r}'.format(data))\n",
    "\n",
    "finally:\n",
    "    print('closing socket')\n",
    "    sock.close()"
   ]
  }
 ],
 "metadata": {
  "kernelspec": {
   "display_name": "Python 3",
   "language": "python",
   "name": "python3"
  },
  "language_info": {
   "codemirror_mode": {
    "name": "ipython",
    "version": 3
   },
   "file_extension": ".py",
   "mimetype": "text/x-python",
   "name": "python",
   "nbconvert_exporter": "python",
   "pygments_lexer": "ipython3",
   "version": "3.8.5"
  }
 },
 "nbformat": 4,
 "nbformat_minor": 4
}
